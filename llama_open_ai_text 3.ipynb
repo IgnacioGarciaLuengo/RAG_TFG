{
 "cells": [
  {
   "cell_type": "markdown",
   "metadata": {},
   "source": [
    "#### Key OPEN AI\n",
    "HAy que crearse un akey de OpenAi, **OJO ESTE EJEMPLO VALE PARA OPENAI NO PARA AZURE OPENAI, PERO HAY EJEMPLOS MUY PARECIDOS**"
   ]
  },
  {
   "cell_type": "code",
   "execution_count": null,
   "metadata": {},
   "outputs": [],
   "source": [
    "import openai\n",
    "token=\"sk-proj-4AOuLAdpHG5pObkXSVyqT3BlbkFJCKVqIeHV3Ey6JZIdlzT1\"\n",
    "openai.api_key=token #esta es la mia\n",
    "#openai.api_key=\"6e1b89fb31a94bff8db7e04e28c03dbe\""
   ]
  },
  {
   "cell_type": "markdown",
   "metadata": {},
   "source": [
    "Importamos librerias necesarias para la comunicación entre Llama y OpenAI y para la indexación de enbeddings."
   ]
  },
  {
   "cell_type": "code",
   "execution_count": 2,
   "metadata": {},
   "outputs": [],
   "source": [
    "from llama_index.llms.openai import OpenAI\n",
    "from llama_index.core import VectorStoreIndex, SimpleDirectoryReader\n",
    "from IPython.display import Markdown, display"
   ]
  },
  {
   "cell_type": "markdown",
   "metadata": {},
   "source": [
    "Creamos indice sobre los documentos que tenemos en nuestra dirección /Data que tendremos que crear al mismo nivel que el notebook"
   ]
  },
  {
   "cell_type": "code",
   "execution_count": 3,
   "metadata": {},
   "outputs": [],
   "source": [
    "from llama_index.core import SimpleDirectoryReader\n",
    "documents = SimpleDirectoryReader(\"Data/\").load_data()"
   ]
  },
  {
   "cell_type": "markdown",
   "metadata": {},
   "source": [
    "Visualizamos los documentos que hemos indexado."
   ]
  },
  {
   "cell_type": "code",
   "execution_count": 4,
   "metadata": {},
   "outputs": [
    {
     "name": "stdout",
     "output_type": "stream",
     "text": [
      "<class 'llama_index.core.schema.Document'>\n",
      "Doc ID: 542db617-f8e1-4df5-815e-5126426b0610\n",
      "Text: Herramientas OSINT Conocimientos de Hacking Ético y Redes\n",
      "Herramientas de Red Team   Conocimientos de Python  Conocimientos en\n",
      "BBDD  Bachillerato de Ciencias Tecnológicas I.E.S Joan Miró |\n",
      "Septiembre 2016 - Junio 2018 Conocimientos en eJPTv2, eCPPTv2, eWPT\n",
      "Marzo 2023 - Actualidad Hacking Ético y Ciberseguridad  Febrero 2023 -\n",
      "Marzo 2023 Python ...\n"
     ]
    }
   ],
   "source": [
    "print(type(documents[0]))\n",
    "print(documents[0])"
   ]
  },
  {
   "cell_type": "markdown",
   "metadata": {},
   "source": [
    "Hacemos la **vectorización** de los documentos "
   ]
  },
  {
   "cell_type": "code",
   "execution_count": 9,
   "metadata": {},
   "outputs": [],
   "source": [
    "index = VectorStoreIndex.from_documents(documents)"
   ]
  },
  {
   "cell_type": "markdown",
   "metadata": {},
   "source": [
    "#### Creación de Indice y pregunta y respuesta\n",
    "Creamos la query_engine para crear el indice.\n",
    "Y lo utilizamos para hacer la pregunta.\n",
    "Por último, imprimimos la respuesta por pantalla."
   ]
  },
  {
   "cell_type": "code",
   "execution_count": 11,
   "metadata": {},
   "outputs": [
    {
     "name": "stdout",
     "output_type": "stream",
     "text": [
      "Nicolás Corro es un profesional apasionado por la programación especializada en manejo de datos y desarrollo de aplicaciones. Tiene experiencia laboral como camarero en Perú y en Estados Unidos, así como en reposición en un supermercado. Actualmente está cursando un grado en Informática y un Professional Degree en Applied Computing & Artificial Intelligence. Posee habilidades en Python, SQL, JavaScript, HTML, CSS y Excel. Además, cuenta con certificados en Data Analysis with Python, Databases and SQL for Data Science with Python, Programming with Javascript, Python Project for Data Science, y Python for Data Science, AI & Development. Es nativo en español y tiene un nivel B2 de inglés.\n"
     ]
    }
   ],
   "source": [
    "query_engine= index.as_query_engine()\n",
    "response = query_engine.query('Haz un resumen del CV de Nicolás Corro, en español')\n",
    "print(str(response))"
   ]
  }
 ],
 "metadata": {
  "kernelspec": {
   "display_name": "Python 3 (ipykernel)",
   "language": "python",
   "name": "python3"
  },
  "language_info": {
   "codemirror_mode": {
    "name": "ipython",
    "version": 3
   },
   "file_extension": ".py",
   "mimetype": "text/x-python",
   "name": "python",
   "nbconvert_exporter": "python",
   "pygments_lexer": "ipython3",
   "version": "3.9.13"
  }
 },
 "nbformat": 4,
 "nbformat_minor": 2
}
